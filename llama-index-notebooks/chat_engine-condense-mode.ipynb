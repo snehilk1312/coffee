{
 "cells": [
  {
   "cell_type": "markdown",
   "metadata": {},
   "source": [
    "```\n",
    "Condense question is a simple chat mode built on top of a query engine over your data.\n",
    "\n",
    "For each chat interaction:\n",
    "\n",
    "    first generate a standalone question from conversation context and last message, then\n",
    "    query the query engine with the condensed question for a response.\n",
    "\n",
    "This approach is simple, and works for questions directly related to the knowledge base. Since it always queries the knowledge base, it can have difficulty answering meta questions like \"what did I ask you before?\"\n",
    "\n",
    "```"
   ]
  },
  {
   "cell_type": "code",
   "execution_count": 1,
   "metadata": {},
   "outputs": [
    {
     "name": "stderr",
     "output_type": "stream",
     "text": [
      "c:\\Users\\snehi\\Desktop\\Learning\\.dev_env\\Lib\\site-packages\\tqdm\\auto.py:21: TqdmWarning: IProgress not found. Please update jupyter and ipywidgets. See https://ipywidgets.readthedocs.io/en/stable/user_install.html\n",
      "  from .autonotebook import tqdm as notebook_tqdm\n"
     ]
    }
   ],
   "source": [
    "import os\n",
    "\n",
    "# creating embeddings\n",
    "from llama_index.embeddings.huggingface import HuggingFaceEmbedding\n",
    "from llama_index.core import Settings\n",
    "Settings.embed_model = HuggingFaceEmbedding(\n",
    "    model_name=\"BAAI/bge-small-en-v1.5\"\n",
    ")\n",
    "\n",
    "# reloading index\n",
    "\n",
    "from llama_index.core import StorageContext, load_index_from_storage\n",
    "\n",
    "# rebuild storage context\n",
    "storage_context = StorageContext.from_defaults(persist_dir=\"embed_dir/\")\n",
    "\n",
    "# load index\n",
    "index = load_index_from_storage(storage_context)\n",
    "\n",
    "from llama_index.llms.ollama import Ollama\n",
    "\n",
    "# ollama\n",
    "Settings.llm = Ollama(model=\"llama2\", request_timeout=180.0)"
   ]
  },
  {
   "cell_type": "code",
   "execution_count": 2,
   "metadata": {},
   "outputs": [],
   "source": [
    "chat_engine = index.as_chat_engine(chat_mode=\"condense_question\", verbose=True)"
   ]
  },
  {
   "cell_type": "code",
   "execution_count": 3,
   "metadata": {},
   "outputs": [
    {
     "name": "stdout",
     "output_type": "stream",
     "text": [
      "Querying with: What is your preference when it comes to coffee beans? Do you prefer Arabica or Robusta?\n",
      "Interesting question! When it comes to coffee beans, I'm afraid I can't provide a straightforward answer based on the context information provided. You see, the text suggests that both Arabica and Robusta have their own unique qualities and advantages. While Arabica is known for its complexity in sweetness and flavor, Robusta is more robust and bold.\n",
      "\n",
      "However, the reason why some coffee beans are more expensive than others is because of the specialty coffee market. Specialty coffee roasters often prioritize quality over quantity, which means they are willing to pay a premium for high-quality beans with unique flavor profiles. In this case, Black Baza's higher prices for Robusta may be due to their focus on delivering exceptional taste and quality, rather than simply choosing one type of coffee bean over the other.\n",
      "\n",
      "Ultimately, my preference when it comes to coffee beans would depend on my mood and personal preferences. Some days I might crave a bold and robust cup of Robusta, while other days I might want something smoother and more flavorful with Arabica. So, I'm afraid I can't give you a definitive answer!\n"
     ]
    }
   ],
   "source": [
    "response = chat_engine.chat(\"do people prefer arabica or robusta coffee beans?\")\n",
    "print(response)"
   ]
  },
  {
   "cell_type": "code",
   "execution_count": 4,
   "metadata": {},
   "outputs": [
    {
     "name": "stdout",
     "output_type": "stream",
     "text": [
      "Querying with: Which type of coffee beans do Community Members prefer: Arabica or Robusta?\n",
      "Community Members generally prefer Arabica over Robusta. While Robusta is easier to grow and has a more robust flavor, Arabica offers a more complex and nuanced taste experience with less bitterness and more subtle notes. The higher prices of specialty Arabica coffee are seen as worth it for the superior flavor profile.\n"
     ]
    }
   ],
   "source": [
    "response = chat_engine.chat(\"but which is more preferred by community members?\")\n",
    "print(response)"
   ]
  },
  {
   "cell_type": "code",
   "execution_count": null,
   "metadata": {},
   "outputs": [],
   "source": []
  }
 ],
 "metadata": {
  "kernelspec": {
   "display_name": ".dev_env",
   "language": "python",
   "name": "python3"
  },
  "language_info": {
   "codemirror_mode": {
    "name": "ipython",
    "version": 3
   },
   "file_extension": ".py",
   "mimetype": "text/x-python",
   "name": "python",
   "nbconvert_exporter": "python",
   "pygments_lexer": "ipython3",
   "version": "3.11.9"
  }
 },
 "nbformat": 4,
 "nbformat_minor": 2
}
