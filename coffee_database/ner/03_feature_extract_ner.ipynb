{
 "cells": [
  {
   "cell_type": "markdown",
   "metadata": {},
   "source": [
    "### Loading and trying the model with new data"
   ]
  },
  {
   "cell_type": "code",
   "execution_count": 1,
   "metadata": {},
   "outputs": [],
   "source": [
    "import warnings\n",
    "# Suppress all warnings\n",
    "warnings.filterwarnings(\"ignore\")"
   ]
  },
  {
   "cell_type": "code",
   "execution_count": 2,
   "metadata": {},
   "outputs": [],
   "source": [
    "import sys\n",
    "import os\n",
    "\n",
    "# Add the path to the directory containing the attribute_cleaner module\n",
    "sys.path.append(os.path.abspath(\"../transformer\"))\n",
    "\n",
    "# Now you can import text_cleaner\n",
    "from attribute_cleaner.general_string_cleaner import text_cleaner"
   ]
  },
  {
   "cell_type": "code",
   "execution_count": 4,
   "metadata": {},
   "outputs": [],
   "source": [
    "# Import the spaCy library\n",
    "import spacy\n",
    "\n",
    "# Load the trained spaCy NER model from the specified path\n",
    "nlp = spacy.load('output_try_3/model-best')\n"
   ]
  },
  {
   "cell_type": "code",
   "execution_count": 5,
   "metadata": {},
   "outputs": [],
   "source": [
    "def return_each_label(text):\n",
    "    doc = nlp(text.lower())\n",
    "\n",
    "    return_dict = {}\n",
    "    \n",
    "    for ent in doc.ents:\n",
    "        # print(ent.label_)\n",
    "        if ent.label_ not in return_dict.keys():\n",
    "            return_dict[ent.label_] = [ent.text]\n",
    "        else:\n",
    "            return_dict[ent.label_].append(ent.text)\n",
    "    return return_dict"
   ]
  },
  {
   "cell_type": "code",
   "execution_count": 6,
   "metadata": {},
   "outputs": [],
   "source": [
    "text = \"\"\"\n",
    "Jasmine kissed cranberry - 100 % arabica that is sourced from Chikmagalur, grown at an altitude of approximately 4,100ft to 4,500ft. It gets its unique name through a process which include a strain of yeast used to create a carbon dioxide-rich environment during fermentation in stainless-steel fermenters. A remarkable level of complexity in the beans is created by this process, laying the groundwork for a wonderful cup of coffee. Steady drying on raised beds is the next important step, which lets the flavors gradually develop and intensify. After another 30 days of continuous stirring, the coffee undergo additional drying developing scent of jasmine, complex notes of raspberries, cranberries, and sparkling malic acidity with a lingering floral aftertaste \n",
    "\"\"\""
   ]
  },
  {
   "cell_type": "code",
   "execution_count": 7,
   "metadata": {},
   "outputs": [
    {
     "data": {
      "text/plain": [
       "{'TASTING NOTES': ['jasmine', 'jasmine', 'raspberries', 'cranberries'],\n",
       " 'COFFEE TYPE': ['arabica'],\n",
       " 'LOCATION': ['chikmagalur'],\n",
       " 'ELEVATION': ['4 , 100ft'],\n",
       " 'ACIDITY': ['malic'],\n",
       " 'COFFEE_PROPERTIES': ['floral']}"
      ]
     },
     "execution_count": 7,
     "metadata": {},
     "output_type": "execute_result"
    }
   ],
   "source": [
    "return_each_label(text_cleaner(text))"
   ]
  },
  {
   "cell_type": "code",
   "execution_count": 8,
   "metadata": {},
   "outputs": [],
   "source": [
    "text =\"\"\"\n",
    "Single origin Indian Coffee From Moganad Estate, Tamil Nadu which is a 100% Arabiaca coffee with \n",
    "an exquisite blend of balanced sweetness and brightness. A Medium Dark Roast coffee with \n",
    "flavor notes of Cocoa, Caramel and Nut which can also be enjoyed in a French press, moka pot, aeropress & espresso .\n",
    " It is washed processed, grown at an altitude of around 4430 ft\n",
    "\n",
    "\"\"\""
   ]
  },
  {
   "cell_type": "code",
   "execution_count": 9,
   "metadata": {},
   "outputs": [
    {
     "data": {
      "text/plain": [
       "{'ESTATE': ['moganad'],\n",
       " 'LOCATION': ['tamil nadu'],\n",
       " 'COFFEE TYPE': ['arabiaca'],\n",
       " 'ROAST LEVEL': ['medium dark'],\n",
       " 'TASTING NOTES': ['cocoa', 'caramel', 'nut'],\n",
       " 'PROCESSING': ['washed'],\n",
       " 'ELEVATION': ['4430 ft']}"
      ]
     },
     "execution_count": 9,
     "metadata": {},
     "output_type": "execute_result"
    }
   ],
   "source": [
    "return_each_label(text_cleaner(text))"
   ]
  },
  {
   "cell_type": "code",
   "execution_count": 10,
   "metadata": {},
   "outputs": [
    {
     "data": {
      "text/plain": [
       "{'TASTING NOTES': ['toffee', 'hazelnut', 'milk chocolate'],\n",
       " 'ROAST LEVEL': ['espresso'],\n",
       " 'LOCATION': ['chikmagalur'],\n",
       " 'ELEVATION': ['1400m'],\n",
       " 'VARIETAL': ['selection 13'],\n",
       " 'PROCESSING': ['washed']}"
      ]
     },
     "execution_count": 10,
     "metadata": {},
     "output_type": "execute_result"
    }
   ],
   "source": [
    "text=\"\"\"\n",
    "tasting notes : toffee , hazelnut , milk chocolate roast level : espresso location-chikmagalur , kn \n",
    "altitude- 1400m varietal- selection 13 \n",
    "process-washed weight-250gm/1kg;\n",
    "\"\"\"\n",
    "return_each_label(text_cleaner(text))"
   ]
  },
  {
   "cell_type": "code",
   "execution_count": 11,
   "metadata": {},
   "outputs": [
    {
     "data": {
      "text/plain": [
       "{'TASTING NOTES': ['toffee', 'hazelnut', 'milk chocolate'],\n",
       " 'LOCATION': ['chikmagalur'],\n",
       " 'VARIETAL': ['selection 13process'],\n",
       " 'PROCESSING': ['washed']}"
      ]
     },
     "execution_count": 11,
     "metadata": {},
     "output_type": "execute_result"
    }
   ],
   "source": [
    "text = \"\"\" \n",
    "tasting notes : toffee , hazelnut , milk chocolate roast level : espressolocation- chikmagalur , knaltitude- 1400mvarietal- selection 13process- washed weight- 250gm/1kg\n",
    "\"\"\"\n",
    "return_each_label(text_cleaner(text))"
   ]
  },
  {
   "cell_type": "code",
   "execution_count": 12,
   "metadata": {},
   "outputs": [
    {
     "data": {
      "text/plain": [
       "{'FARMER': ['ramdev', 'shantha', 'nagesh', 'ramdev', 'shantha', 'nagesh'],\n",
       " 'ESTATE': ['bettadamalali',\n",
       "  'bettadamalali',\n",
       "  'bettadamalali',\n",
       "  'bettadamalali',\n",
       "  'bettadamalali',\n",
       "  'bettadamalali'],\n",
       " 'LOCATION': ['baba budan giri hills of chikmagalur ,',\n",
       "  'baba budan giri hills of chikmagalur ,'],\n",
       " 'PROCESSING': ['washed', 'washed', 'washed', 'washed'],\n",
       " 'COFFEE TYPE': ['arabicas', 'arabica', 'arabicas', 'arabica'],\n",
       " 'BODY': ['rich-bodied', 'rich-bodied'],\n",
       " 'TASTING NOTES': ['honey',\n",
       "  'dark cocoa',\n",
       "  'roasted nuts',\n",
       "  'honey cocoa',\n",
       "  'honey',\n",
       "  'dark cocoa',\n",
       "  'roasted nuts']}"
      ]
     },
     "execution_count": 12,
     "metadata": {},
     "output_type": "execute_result"
    }
   ],
   "source": [
    "text = \"\"\" \n",
    "\n",
    "our search for the immaculate espresso began when we were embraced by the warm welcome of ramdev and his parents shantha and nagesh as we drove through the gates of bettadamalali estate in early 2023 . a pristine farm nestled in the baba budan giri hills of chikmagalur , this place is more than a commercial operation – it is a garden of nature’s best delights . with scientific approaches to farming complemented by highly structured operations , bettadamalali produce some of the best washed arabicas we have encountered in recent times . the farm has been a long-term partner to our sister enterprise indcaffe – who have over the years exported several hundreds of tons of washed arabica for them to specialty houses in europe . we decided to grab our own little share of the treasure this year as we cycled through multiple lots to find this gem that would help us curate a delicious espresso . expect a sweet , rich-bodied liquor in your cup with a viscous creamy texture that will hug your palate closely before letting go . sweet honey and dark cocoa notes preceded by a savory aroma of roasted nuts together create a mesmerizing espresso that is testament to the great work of art that has been accomplished in the fields of bettadamalali estate . enjoy it black or hit it with milk ! honey cocoa roasted nuts our search for the immaculate espresso began when we were embraced by the warm welcome of ramdev and his parents shantha and nagesh as we drove through the gates of bettadamalali estate in early 2023 . a pristine farm nestled in the baba budan giri hills of chikmagalur , this place is more than a commercial operation – it is a garden of nature’s best delights . with scientific approaches to farming complemented by highly structured operations , bettadamalali produce some of the best washed arabicas we have encountered in recent times . the farm has been a long-term partner to our sister enterprise indcaffe – who have over the years exported several hundreds of tons of washed arabica for them to specialty houses in europe . we decided to grab our own little share of the treasure this year as we cycled through multiple lots to find this gem that would help us curate a delicious espresso . expect a sweet , rich-bodied liquor in your cup with a viscous creamy texture that will hug your palate closely before letting go . sweet honey and dark cocoa notes preceded by a savory aroma of roasted nuts together create a mesmerizing espresso that is testament to the great work of art that has been accomplished in the fields of bettadamalali estate . enjoy it black or hit it with milk\n",
    "\n",
    "\"\"\" \n",
    "return_each_label(text.lower())"
   ]
  },
  {
   "cell_type": "markdown",
   "metadata": {},
   "source": [
    "##### Even though transformer based model seems to be an overkill, the 3rd iteration is certainly an step up from last 2 iteration of same model !"
   ]
  }
 ],
 "metadata": {
  "kernelspec": {
   "display_name": ".dev_env",
   "language": "python",
   "name": "python3"
  },
  "language_info": {
   "codemirror_mode": {
    "name": "ipython",
    "version": 3
   },
   "file_extension": ".py",
   "mimetype": "text/x-python",
   "name": "python",
   "nbconvert_exporter": "python",
   "pygments_lexer": "ipython3",
   "version": "3.12.3"
  }
 },
 "nbformat": 4,
 "nbformat_minor": 2
}
