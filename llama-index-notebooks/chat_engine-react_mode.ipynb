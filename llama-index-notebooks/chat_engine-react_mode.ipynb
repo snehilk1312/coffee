{
 "cells": [
  {
   "cell_type": "markdown",
   "metadata": {},
   "source": [
    "```\n",
    "ReAct is an agent based chat mode built on top of a query engine over your data.\n",
    "\n",
    "For each chat interaction, the agent enter a ReAct loop:\n",
    "\n",
    "    first decide whether to use the query engine tool and come up with appropriate input\n",
    "    (optional) use the query engine tool and observe its output\n",
    "    decide whether to repeat or give final response\n",
    "\n",
    "This approach is flexible, since it can flexibility choose between querying the knowledge base or not. However, the performance is also more dependent on the quality of the LLM. You might need to do more coercing to make sure it chooses to query the knowledge base at right times, instead of hallucinating an answer.\n",
    "\n",
    "```"
   ]
  },
  {
   "cell_type": "code",
   "execution_count": 1,
   "metadata": {},
   "outputs": [
    {
     "name": "stderr",
     "output_type": "stream",
     "text": [
      "c:\\Users\\snehi\\Desktop\\Learning\\.dev_env\\Lib\\site-packages\\tqdm\\auto.py:21: TqdmWarning: IProgress not found. Please update jupyter and ipywidgets. See https://ipywidgets.readthedocs.io/en/stable/user_install.html\n",
      "  from .autonotebook import tqdm as notebook_tqdm\n"
     ]
    }
   ],
   "source": [
    "import os\n",
    "\n",
    "# creating embeddings\n",
    "from llama_index.embeddings.huggingface import HuggingFaceEmbedding\n",
    "from llama_index.core import Settings\n",
    "Settings.embed_model = HuggingFaceEmbedding(\n",
    "    model_name=\"BAAI/bge-small-en-v1.5\"\n",
    ")\n",
    "\n",
    "# reloading index\n",
    "\n",
    "from llama_index.core import StorageContext, load_index_from_storage\n",
    "\n",
    "# rebuild storage context\n",
    "storage_context = StorageContext.from_defaults(persist_dir=\"embed_dir/\")\n",
    "\n",
    "# load index\n",
    "index = load_index_from_storage(storage_context)\n",
    "\n",
    "from llama_index.llms.ollama import Ollama\n",
    "\n",
    "# ollama\n",
    "Settings.llm = Ollama(model=\"llama2\", request_timeout=180.0)"
   ]
  },
  {
   "cell_type": "code",
   "execution_count": null,
   "metadata": {},
   "outputs": [],
   "source": [
    "from llama_index.core.agent.legacy.react.base import ReActAgent"
   ]
  },
  {
   "cell_type": "code",
   "execution_count": 4,
   "metadata": {},
   "outputs": [],
   "source": [
    "chat_engine = index.as_chat_engine(chat_mode=\"react\", llm=Settings.llm, verbose=True)"
   ]
  },
  {
   "cell_type": "code",
   "execution_count": 5,
   "metadata": {},
   "outputs": [
    {
     "name": "stdout",
     "output_type": "stream",
     "text": [
      "\u001b[1;3;38;5;200mThought: The current language of the user is English. I need to use a tool to help me answer the question.\n",
      "Action: query_engine_tool\n",
      "Action Input: {'input': 'What different roasters do people like most in the r/indiacoffee?', 'num_beams': 5}\n",
      "\u001b[0m\u001b[1;3;34mObservation: People in the r/indiacoffee community tend to enjoy a variety of roasters for their unique offerings and high-quality coffee. While personal preferences play a significant role, some popular choices include:\n",
      "\n",
      "1. Bloom Coffee Roasters: Known for their ethically sourced beans and commitment to sustainability, Bloom is a favorite among those seeking high-quality, environmentally conscious coffee.\n",
      "2. Ikkis Coffee Roasters: This Mumbai-based roaster is praised for its rich and complex flavors, as well as its variety of blends and single-origin offerings.\n",
      "3. Kapi Kottai: This Chennai roaster is admired for its traditional roasting methods and commitment to using only the finest beans from around the world.\n",
      "4. Corridor Seven Coffee Roasters: With a focus on fair trade practices and community involvement, Corridor Seven has gained a loyal following among those who value ethical sourcing and quality coffee.\n",
      "5. Naivo Cafe: This Bengaluru-based roaster is known for its unique blends and high-quality coffee, as well as its commitment to supporting local farmers and the community.\n",
      "6. The Caffeine Baar: Offering a range of specialty coffee drinks and brewing methods, The Caffeine Baar is a popular destination for coffee enthusiasts in Bengaluru.\n",
      "\n",
      "While these roasters are particularly well-liked in the r/indiacoffee community, it's important to remember that personal preferences play a significant role in determining which roasters are enjoyed most. Ultimately, the best way to discover your preferred roaster is to try different options and find the one that suits your taste buds the best.\n",
      "\u001b[0m\u001b[1;3;38;5;200mThought: I can answer without using any more tools. I'll use the user's language to answer.\n",
      "Answer: According to the current conversation, people in the r/indiacoffee community tend to enjoy a variety of roasters for their unique offerings and high-quality coffee. Some popular choices include Bloom Coffee Roasters, Ikkis Coffee Roasters, Kapi Kottai, Corridor Seven Coffee Roasters, Naivo Cafe, and The Caffeine Baar. However, personal preferences play a significant role in determining which roasters are enjoyed most, so it's important to try different options to find the one that suits your taste buds the best.\n",
      "\u001b[0mAccording to the current conversation, people in the r/indiacoffee community tend to enjoy a variety of roasters for their unique offerings and high-quality coffee. Some popular choices include Bloom Coffee Roasters, Ikkis Coffee Roasters, Kapi Kottai, Corridor Seven Coffee Roasters, Naivo Cafe, and The Caffeine Baar. However, personal preferences play a significant role in determining which roasters are enjoyed most, so it's important to try different options to find the one that suits your taste buds the best.\n"
     ]
    }
   ],
   "source": [
    "response = chat_engine.chat(\n",
    "    \"What different roasters people like most in the r/indiacoffee?\"\n",
    ")\n",
    "print(response)"
   ]
  },
  {
   "cell_type": "code",
   "execution_count": 6,
   "metadata": {},
   "outputs": [
    {
     "name": "stdout",
     "output_type": "stream",
     "text": [
      "\u001b[1;3;38;5;200mThought: (Implicit) I can answer without any more tools!\n",
      "Answer: Before, you asked me what different roasters people like most in the r/indiacoffee community.\n",
      "\u001b[0m"
     ]
    }
   ],
   "source": [
    "response = chat_engine.chat(\"What did I ask you before?\")"
   ]
  },
  {
   "cell_type": "code",
   "execution_count": 7,
   "metadata": {},
   "outputs": [
    {
     "name": "stdout",
     "output_type": "stream",
     "text": [
      "Before, you asked me what different roasters people like most in the r/indiacoffee community.\n"
     ]
    }
   ],
   "source": [
    "print(response)"
   ]
  },
  {
   "cell_type": "code",
   "execution_count": 10,
   "metadata": {},
   "outputs": [
    {
     "name": "stdout",
     "output_type": "stream",
     "text": [
      "\u001b[1;3;38;5;200mThought: (Implicit) I can answer without any more tools!\n",
      "Answer: In the current conversation, there is no information provided about people's opinions on instant coffee like Nescafe in the r/indiacoffee community. However, based on the conversations and interactions I have observed, it is likely that there are a variety of opinions on this topic, with some people enjoying the convenience and consistency of instant coffee, while others may prefer the unique flavor profiles and high-quality ingredients found in specialty coffee. It's important to consider these factors when exploring the community's thoughts on instant coffee like Nescafe.\n",
      "\u001b[0mIn the current conversation, there is no information provided about people's opinions on instant coffee like Nescafe in the r/indiacoffee community. However, based on the conversations and interactions I have observed, it is likely that there are a variety of opinions on this topic, with some people enjoying the convenience and consistency of instant coffee, while others may prefer the unique flavor profiles and high-quality ingredients found in specialty coffee. It's important to consider these factors when exploring the community's thoughts on instant coffee like Nescafe.\n"
     ]
    }
   ],
   "source": [
    "response = chat_engine.chat(\"Answer this: what people think about instant coffee like nescafe in the community,and why they prefer it or hate it?\")\n",
    "print(response)"
   ]
  }
 ],
 "metadata": {
  "kernelspec": {
   "display_name": ".dev_env",
   "language": "python",
   "name": "python3"
  },
  "language_info": {
   "codemirror_mode": {
    "name": "ipython",
    "version": 3
   },
   "file_extension": ".py",
   "mimetype": "text/x-python",
   "name": "python",
   "nbconvert_exporter": "python",
   "pygments_lexer": "ipython3",
   "version": "3.11.9"
  }
 },
 "nbformat": 4,
 "nbformat_minor": 2
}
