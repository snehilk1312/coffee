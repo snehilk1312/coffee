{
 "cells": [
  {
   "cell_type": "markdown",
   "metadata": {},
   "source": [
    "#### This notebook is just to show how rag can be useful, we will just feed data as text and will observe the answers to see that when context is provided answers are much relevant . No optimization have been done , default data load and using llama3 as model"
   ]
  },
  {
   "cell_type": "code",
   "execution_count": 1,
   "metadata": {},
   "outputs": [],
   "source": [
    "from llama_index.readers.database import DatabaseReader\n",
    "from llama_index.core import VectorStoreIndex\n",
    "from dotenv import load_dotenv\n",
    "import os"
   ]
  },
  {
   "cell_type": "code",
   "execution_count": 2,
   "metadata": {},
   "outputs": [
    {
     "data": {
      "text/plain": [
       "True"
      ]
     },
     "execution_count": 2,
     "metadata": {},
     "output_type": "execute_result"
    }
   ],
   "source": [
    "# Load the environment variables\n",
    "load_dotenv('..\\.env')"
   ]
  },
  {
   "cell_type": "code",
   "execution_count": 3,
   "metadata": {},
   "outputs": [],
   "source": [
    "# creating embeddings\n",
    "from llama_index.embeddings.huggingface import HuggingFaceEmbedding\n",
    "from llama_index.core import Settings\n",
    "Settings.embed_model = HuggingFaceEmbedding(\n",
    "    model_name=\"BAAI/bge-small-en-v1.5\"\n",
    ")"
   ]
  },
  {
   "cell_type": "code",
   "execution_count": 7,
   "metadata": {},
   "outputs": [],
   "source": [
    "from llama_index.core import VectorStoreIndex, SimpleDirectoryReader, Settings\n",
    "from llama_index.core.embeddings import resolve_embed_model\n",
    "from llama_index.llms.gemini import Gemini\n",
    "\n",
    "# ollama\n",
    "Settings.llm = Gemini(model=\"models/gemini-1.5-pro-latest\")"
   ]
  },
  {
   "cell_type": "markdown",
   "metadata": {},
   "source": [
    "### reload from local persist"
   ]
  },
  {
   "cell_type": "code",
   "execution_count": 5,
   "metadata": {},
   "outputs": [],
   "source": [
    "# reloading index\n",
    "\n",
    "from llama_index.core import StorageContext, load_index_from_storage\n",
    "\n",
    "# rebuild storage context\n",
    "storage_context = StorageContext.from_defaults(persist_dir=\"embed_dir_dataengineering_comments/\")\n",
    "\n",
    "# load index\n",
    "index = load_index_from_storage(storage_context)"
   ]
  },
  {
   "cell_type": "code",
   "execution_count": 8,
   "metadata": {},
   "outputs": [],
   "source": [
    "# without context llm\n",
    "\n",
    "llm_without_context = Gemini(model=\"models/gemini-1.5-pro-latest\")"
   ]
  },
  {
   "cell_type": "code",
   "execution_count": 9,
   "metadata": {},
   "outputs": [
    {
     "name": "stdout",
     "output_type": "stream",
     "text": [
      "**Role of Generative AI in Data Engineering**\n",
      "\n",
      "Generative AI, such as large language models (LLMs), is revolutionizing data engineering by automating and enhancing various tasks:\n",
      "\n",
      "* **Data Generation:** LLMs can generate synthetic data that resembles real-world data, enabling data engineers to create large and diverse datasets for testing and training models.\n",
      "* **Data Augmentation:** Generative AI can augment existing datasets by generating new data points that complement the original data, improving model performance.\n",
      "* **Data Cleaning and Transformation:** LLMs can identify and correct data errors, inconsistencies, and missing values, streamlining data preparation processes.\n",
      "* **Feature Engineering:** Generative AI can generate new features from existing data, expanding the feature space and potentially improving model accuracy.\n",
      "* **Data Visualization:** LLMs can generate interactive and informative data visualizations, making it easier for data engineers to explore and understand data.\n",
      "\n",
      "**Impact on Data Engineers**\n",
      "\n",
      "Generative AI is having a significant impact on data engineers:\n",
      "\n",
      "* **Increased Efficiency:** Automation of data generation, augmentation, and cleaning tasks frees up data engineers to focus on more complex and strategic initiatives.\n",
      "* **Improved Data Quality:** Generative AI helps ensure data quality by identifying and correcting errors, leading to more reliable and accurate models.\n",
      "* **Enhanced Model Performance:** By generating synthetic data and augmenting existing datasets, generative AI enables data engineers to train models on larger and more diverse data, resulting in improved model performance.\n",
      "* **New Opportunities:** Generative AI opens up new opportunities for data engineers to explore innovative applications, such as data-driven storytelling and personalized data experiences.\n",
      "\n",
      "**Challenges and Considerations**\n",
      "\n",
      "While generative AI offers significant benefits, it also presents challenges:\n",
      "\n",
      "* **Bias and Fairness:** Generative AI models can inherit biases from the data they are trained on, leading to biased or unfair results.\n",
      "* **Data Privacy:** Synthetic data generated by LLMs may contain sensitive information, raising concerns about data privacy and security.\n",
      "* **Ethical Considerations:** The use of generative AI in data engineering raises ethical questions about the potential misuse of synthetic data and the impact on human employment.\n",
      "\n",
      "**Conclusion**\n",
      "\n",
      "Generative AI is transforming data engineering by automating tasks, improving data quality, and enhancing model performance. While it presents challenges, it also creates new opportunities for data engineers to innovate and drive data-driven decision-making. By embracing generative AI, data engineers can unlock the full potential of data and contribute to the advancement of data-driven technologies.\n"
     ]
    }
   ],
   "source": [
    "resp = llm_without_context.complete(\"role of generative ai in data engineering and how it is affecting you?\")\n",
    "print(resp)"
   ]
  },
  {
   "cell_type": "code",
   "execution_count": 10,
   "metadata": {},
   "outputs": [
    {
     "name": "stdout",
     "output_type": "stream",
     "text": [
      "Generative AI is currently in the \"augment\" phase for data engineering and is not expected to replace data engineers in the near future. However, it is likely that data engineering will evolve and become more integrated with AI in the future.\n"
     ]
    }
   ],
   "source": [
    "query_engine = index.as_query_engine()\n",
    "response = query_engine.query(\"role of generative ai in data engineering and how it is affecting you?\")\n",
    "print(response)"
   ]
  },
  {
   "cell_type": "code",
   "execution_count": 11,
   "metadata": {},
   "outputs": [
    {
     "name": "stdout",
     "output_type": "stream",
     "text": [
      "**Career Progression for Data Engineers with Few Years of Experience**\n",
      "\n",
      "**1. Deepen Technical Skills:**\n",
      "\n",
      "* Master core data engineering technologies (e.g., Hadoop, Spark, SQL, Python)\n",
      "* Gain proficiency in cloud platforms (e.g., AWS, Azure, GCP)\n",
      "* Develop expertise in data modeling, data integration, and data quality management\n",
      "\n",
      "**2. Expand Knowledge and Skills:**\n",
      "\n",
      "* Explore advanced data engineering concepts (e.g., machine learning, data science)\n",
      "* Learn about data governance, data security, and data ethics\n",
      "* Develop soft skills such as communication, teamwork, and problem-solving\n",
      "\n",
      "**3. Seek Leadership Opportunities:**\n",
      "\n",
      "* Volunteer to lead projects or initiatives\n",
      "* Mentor junior data engineers\n",
      "* Participate in industry events and conferences\n",
      "\n",
      "**4. Pursue Certifications and Training:**\n",
      "\n",
      "* Obtain industry-recognized certifications (e.g., AWS Certified Data Engineer)\n",
      "* Attend workshops and training programs to enhance your skills\n",
      "\n",
      "**5. Network and Build Relationships:**\n",
      "\n",
      "* Attend industry events and meetups\n",
      "* Connect with other data engineers on LinkedIn and other platforms\n",
      "* Seek mentorship from experienced professionals\n",
      "\n",
      "**6. Explore Career Paths:**\n",
      "\n",
      "* Consider specializing in a specific area of data engineering (e.g., data architecture, data analytics)\n",
      "* Explore roles in related fields such as data science, machine learning, or software engineering\n",
      "\n",
      "**7. Stay Updated with Industry Trends:**\n",
      "\n",
      "* Read industry publications and blogs\n",
      "* Attend webinars and conferences\n",
      "* Experiment with emerging technologies and tools\n",
      "\n",
      "**8. Seek Feedback and Growth Opportunities:**\n",
      "\n",
      "* Regularly seek feedback from your manager and colleagues\n",
      "* Identify areas for improvement and develop a plan for growth\n",
      "* Take advantage of company-sponsored training and development programs\n",
      "\n",
      "**9. Consider Further Education:**\n",
      "\n",
      "* Pursue a master's degree in data engineering or a related field\n",
      "* Take online courses or bootcamps to supplement your knowledge and skills\n",
      "\n",
      "**10. Be Patient and Persistent:**\n",
      "\n",
      "* Career progression takes time and effort\n",
      "* Stay motivated, work hard, and don't give up on your goals\n"
     ]
    }
   ],
   "source": [
    "resp = llm_without_context.complete(\"how you should progress in career when you have few years of experience in data engineering, answer from the context provided?\")\n",
    "print(resp)"
   ]
  },
  {
   "cell_type": "code",
   "execution_count": 12,
   "metadata": {},
   "outputs": [
    {
     "name": "stdout",
     "output_type": "stream",
     "text": [
      "The provided context does not contain information on how to progress in a career with a few years of experience in data engineering.\n"
     ]
    }
   ],
   "source": [
    "response = query_engine.query(\"how you should progress in career when you have few years of experience in data engineering, answer from the context provided?\")\n",
    "print(response)"
   ]
  },
  {
   "cell_type": "code",
   "execution_count": 16,
   "metadata": {},
   "outputs": [
    {
     "name": "stdout",
     "output_type": "stream",
     "text": [
      "Postgres is generally considered to be a better choice than MySQL for analytical queries due to its superior optimizer, CTEs, and other features. However, MySQL 8 may be an improvement over previous versions.\n"
     ]
    }
   ],
   "source": [
    "response = query_engine.query(\"what is general opinion about postgres vs mysql from the context provided?\")\n",
    "print(response)"
   ]
  },
  {
   "cell_type": "code",
   "execution_count": null,
   "metadata": {},
   "outputs": [],
   "source": []
  }
 ],
 "metadata": {
  "kernelspec": {
   "display_name": "Python 3",
   "language": "python",
   "name": "python3"
  },
  "language_info": {
   "codemirror_mode": {
    "name": "ipython",
    "version": 3
   },
   "file_extension": ".py",
   "mimetype": "text/x-python",
   "name": "python",
   "nbconvert_exporter": "python",
   "pygments_lexer": "ipython3",
   "version": "3.11.9"
  }
 },
 "nbformat": 4,
 "nbformat_minor": 2
}
