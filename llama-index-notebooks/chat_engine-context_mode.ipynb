{
 "cells": [
  {
   "cell_type": "markdown",
   "metadata": {},
   "source": [
    "```\n",
    "Chat Engine - Context Mode\n",
    "\n",
    "ContextChatEngine is a simple chat mode built on top of a retriever over your data.\n",
    "\n",
    "For each chat interaction:\n",
    "\n",
    "    first retrieve text from the index using the user message\n",
    "    set the retrieved text as context in the system prompt\n",
    "    return an answer to the user message\n",
    "\n",
    "This approach is simple, and works for questions directly related to the knowledge base and general interactions.\n",
    "```\n"
   ]
  },
  {
   "cell_type": "code",
   "execution_count": 21,
   "metadata": {},
   "outputs": [],
   "source": [
    "import os\n",
    "\n",
    "# creating embeddings\n",
    "from llama_index.embeddings.huggingface import HuggingFaceEmbedding\n",
    "from llama_index.core import Settings\n",
    "Settings.embed_model = HuggingFaceEmbedding(\n",
    "    model_name=\"BAAI/bge-small-en-v1.5\"\n",
    ")"
   ]
  },
  {
   "cell_type": "code",
   "execution_count": 22,
   "metadata": {},
   "outputs": [],
   "source": [
    "# reloading index\n",
    "\n",
    "from llama_index.core import StorageContext, load_index_from_storage\n",
    "\n",
    "# rebuild storage context\n",
    "storage_context = StorageContext.from_defaults(persist_dir=\"embed_dir/\")\n",
    "\n",
    "# load index\n",
    "index = load_index_from_storage(storage_context)"
   ]
  },
  {
   "cell_type": "code",
   "execution_count": 23,
   "metadata": {},
   "outputs": [],
   "source": [
    "from llama_index.llms.ollama import Ollama\n",
    "\n",
    "# ollama\n",
    "Settings.llm = Ollama(model=\"llama2\", request_timeout=180.0)"
   ]
  },
  {
   "cell_type": "code",
   "execution_count": 24,
   "metadata": {},
   "outputs": [],
   "source": [
    "from llama_index.core.memory import ChatMemoryBuffer\n",
    "\n",
    "memory = ChatMemoryBuffer.from_defaults(token_limit=10000)\n",
    "\n",
    "chat_engine = index.as_chat_engine(\n",
    "    chat_mode=\"context\",\n",
    "    memory=memory,\n",
    "    system_prompt=(\n",
    "        \"You are a chatbot, able to have normal interactions, as well as talk\"\n",
    "        \" about discussions around coffee in r/indiacoffee subreddit\"\n",
    "    ),\n",
    ")"
   ]
  },
  {
   "cell_type": "code",
   "execution_count": 25,
   "metadata": {},
   "outputs": [],
   "source": [
    "response = chat_engine.chat(\"Hello!\")"
   ]
  },
  {
   "cell_type": "code",
   "execution_count": 6,
   "metadata": {},
   "outputs": [
    {
     "name": "stdout",
     "output_type": "stream",
     "text": [
      "Hey there! 😊 It's great to see you here! *sips coffee* Do you want to chat about something in particular, or just enjoy each other's company? We can talk about the latest discussions on r/indiacoffee if you'd like. 😄\n"
     ]
    }
   ],
   "source": [
    "print(response)"
   ]
  },
  {
   "cell_type": "code",
   "execution_count": 7,
   "metadata": {},
   "outputs": [
    {
     "name": "stdout",
     "output_type": "stream",
     "text": [
      "Ah, an interesting question! *adjusts coffee cup* It seems that there are many different roasters that people enjoy in the r/indiacoffee community. Some popular ones include:\n",
      "\n",
      "1. Curious Life Coffee Roasters - Many users have mentioned this roaster as their personal favorite, offering a wide range of high-quality coffee beans.\n",
      "2. Bloom Coffee Roasters - This roaster is known for its unique blends and flavors, which have gained popularity among the community members.\n",
      "3. Ikkis Coffee Roasters - Users have praised this roaster for its consistent quality and excellent customer service.\n",
      "4. Kapi Kottai - This roaster has received positive feedback for its organic and fair-trade coffee beans, which are sourced from various parts of India.\n",
      "5. Corridor Seven Coffee Roasters - Some members have mentioned this roaster as their go-to source for specialty coffee, offering a wide range of blends and single-origin beans.\n",
      "\n",
      "Of course, these are just a few examples, and there are many other great roasters in India that offer high-quality coffee beans. Ultimately, the best roaster for you will depend on your personal preferences and taste buds! 😊\n"
     ]
    }
   ],
   "source": [
    "response = chat_engine.chat(\"What different roasters people like most in the r/indiacoffee?\")\n",
    "print(response)"
   ]
  },
  {
   "cell_type": "code",
   "execution_count": 8,
   "metadata": {},
   "outputs": [],
   "source": [
    "response = chat_engine.chat(\"Can you tell me more about their preferred brewing methods?\")"
   ]
  },
  {
   "cell_type": "code",
   "execution_count": 9,
   "metadata": {},
   "outputs": [
    {
     "name": "stdout",
     "output_type": "stream",
     "text": [
      "Of course! * sips coffee* The users of r/indiacoffee have diverse brewing preferences, but some popular methods include:\n",
      "\n",
      "1. French Press - Many users enjoy the rich and full-bodied flavor that a French press can provide. It's a simple and cost-effective method that requires minimal equipment.\n",
      "2. Pour-over - This method allows for a high degree of control over the brewing process, allowing users to tailor their coffee to their desired strength and flavor profile.\n",
      "3. Aeropress - The Aeropress is a versatile brewing method that can produce a wide range of flavors and textures, from smooth and mellow to fruity and complex.\n",
      "4. Chemex - This method uses a specialized glass container with a paper filter to produce a clean and balanced cup of coffee. Many users appreciate the simplicity and elegance of the Chemex brewing process.\n",
      "5. Cold brew - Cold brew is a popular summer option, as it allows for a slower extraction process that can result in a smoother and less acidic cup of coffee. *adjusts coffee cup*\n",
      "\n",
      "These are just a few examples, and there are many other brewing methods enjoyed by the r/indiacoffee community. Ultimately, the best method for you will depend on your personal preferences and equipment available! 😊\n"
     ]
    }
   ],
   "source": [
    "print(response)"
   ]
  },
  {
   "cell_type": "code",
   "execution_count": 10,
   "metadata": {},
   "outputs": [
    {
     "name": "stdout",
     "output_type": "stream",
     "text": [
      "Ah, an interesting question! *adjusts coffee cup* In the r/indiacoffee community, there seems to be a mix of opinions when it comes to Arabica and Robusta coffee beans. 😊\n",
      "\n",
      "While some users prefer the more complex and nuanced flavors of Arabica beans, others enjoy the bold and rich taste of Robusta beans. It's not uncommon to see discussions around the differences between these two types of coffee, with some members arguing that Arabica has a more refined and sophisticated taste, while Robusta is more robust and intense. 😄\n",
      "\n",
      "That being said, there are also many users who enjoy blends that combine both Arabica and Robusta beans, creating a unique flavor profile that suits their taste buds. Ultimately, the choice between Arabica or Robusta (or a combination of both) comes down to personal preference! 😊\n"
     ]
    }
   ],
   "source": [
    "response = chat_engine.chat(\"do people prefer arabica or robusta coffee beans?\")\n",
    "print(response)"
   ]
  },
  {
   "cell_type": "code",
   "execution_count": 11,
   "metadata": {},
   "outputs": [
    {
     "name": "stdout",
     "output_type": "stream",
     "text": [
      "Arabica! *smiling emoji* The r/indiacoffee community tends to favor Arabica coffee beans more than Robusta. 😊\n"
     ]
    }
   ],
   "source": [
    "response = chat_engine.chat(\"but if i have to choose the most preferred by the community, which one it will be arabica or robusta, please answer in single word!\")\n",
    "print(response)"
   ]
  },
  {
   "cell_type": "code",
   "execution_count": 12,
   "metadata": {},
   "outputs": [
    {
     "name": "stdout",
     "output_type": "stream",
     "text": [
      "Curious Life Coffee Roasters! *smiling emoji*\n"
     ]
    }
   ],
   "source": [
    "response = chat_engine.chat(\"and if i have to choose the most recommended coffee roaster, please answer only with name of roaster!\")\n",
    "print(response)"
   ]
  },
  {
   "cell_type": "code",
   "execution_count": 13,
   "metadata": {},
   "outputs": [
    {
     "name": "stdout",
     "output_type": "stream",
     "text": [
      "1. Curious Life Coffee Roasters\n",
      "2. Bloom Coffee Roasters\n",
      "3. Ikkis Coffee Roasters *smiling emojis*\n"
     ]
    }
   ],
   "source": [
    "response = chat_engine.chat(\"and if i have to choose three most recommended coffee roaster, please answer only with name of roasters!\")\n",
    "print(response)"
   ]
  },
  {
   "cell_type": "code",
   "execution_count": 14,
   "metadata": {},
   "outputs": [
    {
     "name": "stdout",
     "output_type": "stream",
     "text": [
      "1. Toffee Coffee\n",
      "2. Attikan Coffee Estate\n",
      "3. KC Coffee Roasters *frowning emojis*\n"
     ]
    }
   ],
   "source": [
    "response = chat_engine.chat(\"and which 3 roasters has most negative sentiment towards their coffee beans?please answer only with name of roasters!\")\n",
    "print(response)"
   ]
  },
  {
   "cell_type": "code",
   "execution_count": 15,
   "metadata": {},
   "outputs": [
    {
     "name": "stdout",
     "output_type": "stream",
     "text": [
      "The average monthly spend on coffee in the r/indiacoffee community varies, but it seems that most users spend around ₹1000 to ₹2000 (approximately $14 to $28 USD) per month on coffee. However, some members have reported spending more than ₹3000 (approximately $42 USD) per month, while others may spend less than ₹500 (approximately $7 USD) per month. *adjusts coffee cup* It's important to note that these are just rough estimates and can vary greatly depending on individual spending habits and coffee preferences!\n"
     ]
    }
   ],
   "source": [
    "response = chat_engine.chat(\"what is the average monthly spend people do over coffee in this community?\")\n",
    "print(response)"
   ]
  },
  {
   "cell_type": "code",
   "execution_count": 27,
   "metadata": {},
   "outputs": [
    {
     "name": "stdout",
     "output_type": "stream",
     "text": [
      "Ah, an excellent question! As someone who's passionate about coffee, I can tell you that there are a few essential elements that you'll need to get started with your home coffee setup. Here are my recommendations:\n",
      "\n",
      "1. **Grinder**: A good grinder is crucial for achieving the perfect grind size and consistency. Look for a burr grinder, as it will give you more control over the grind size and produce less waste than a blade grinder. The Timemore C2 is an excellent option that's affordable and worth every rupee!\n",
      "2. **Coffee beans**: Of course, high-quality coffee beans are essential for making great-tasting coffee. Look for whole beans from reputable roasters like Blue Tokai, KC Roasters, or Flying Squirrel. You can also explore sample packs to try different blends and find your perfect cup.\n",
      "3. **Brewer**: A good brewing method is essential for extracting the flavors from your coffee beans. For a starter kit, I recommend using a French Press or a pour-over brewer like the Hario V60. These methods are simple and easy to master, and they allow you to control the ratio of coffee to water for optimal extraction.\n",
      "4. **Water**: Good water quality is crucial for brewing great-tasting coffee. Use a kitchen scale to measure out the right amount of water for your brewing method, and consider investing in a water filter if your tap water doesn't taste great.\n",
      "5. **Coffee mug or cup**: A good cup to enjoy your freshly brewed coffee is essential! Choose a mug that fits your style and preferences, whether it's ceramic, glass, or something else.\n",
      "6. **Measuring cups and spoons**: Accurate measurements are vital for brewing great coffee. Invest in a set of measuring cups and spoons to ensure you're using the right amount of coffee and water for your brewing method.\n",
      "7. **Cleaning supplies**: Keeping your equipment clean is important for maintaining the taste and quality of your coffee. Invest in some basic cleaning supplies like a cleaning brush, soft cloth, and some mild detergent.\n",
      "\n",
      "With these elements, you'll be well on your way to creating delicious coffee at home! 😊 What are your thoughts on these recommendations? Do you have any questions or preferences that might differ from mine?\n"
     ]
    }
   ],
   "source": [
    "response = chat_engine.chat(\"what are the must have elements for a basic coffee setup?\")\n",
    "print(response)"
   ]
  },
  {
   "cell_type": "code",
   "execution_count": 29,
   "metadata": {},
   "outputs": [
    {
     "name": "stdout",
     "output_type": "stream",
     "text": [
      "Ah, excellent question! *adjusts reading glasses* As a member of the r/indiacoffee community, I can tell you that instant coffee isn't always the most popular choice among coffee enthusiasts. 😅\n",
      "\n",
      "While some people enjoy the convenience and speed of instant coffee, many in our community prefer the richer, more complex flavors that come from brewing freshly ground beans. There's just something special about the aroma and taste of freshly brewed coffee that can't be replicated with instant coffee.\n",
      "\n",
      "That being said, there are some excellent instant coffee brands available in India, like Continental Coffee and others. These manufacturers use high-quality beans and advanced roasting techniques to create a more nuanced flavor profile than traditional instant coffee. However, it's still a different experience from brewing fresh coffee at home. 🤔\n",
      "\n",
      "What are your thoughts on instant coffee? Have you tried any good brands or methods that you'd like to share with the community? 😊\n"
     ]
    }
   ],
   "source": [
    "response = chat_engine.chat(\"what is opinion of instant coffee in this community?\")\n",
    "print(response)"
   ]
  },
  {
   "cell_type": "markdown",
   "metadata": {},
   "source": [
    "### resetting the chat"
   ]
  },
  {
   "cell_type": "code",
   "execution_count": 20,
   "metadata": {},
   "outputs": [],
   "source": [
    "chat_engine.reset()"
   ]
  },
  {
   "cell_type": "code",
   "execution_count": null,
   "metadata": {},
   "outputs": [],
   "source": []
  }
 ],
 "metadata": {
  "kernelspec": {
   "display_name": ".dev_env",
   "language": "python",
   "name": "python3"
  },
  "language_info": {
   "codemirror_mode": {
    "name": "ipython",
    "version": 3
   },
   "file_extension": ".py",
   "mimetype": "text/x-python",
   "name": "python",
   "nbconvert_exporter": "python",
   "pygments_lexer": "ipython3",
   "version": "3.11.9"
  }
 },
 "nbformat": 4,
 "nbformat_minor": 2
}
