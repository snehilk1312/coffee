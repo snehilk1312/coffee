{
 "cells": [
  {
   "cell_type": "code",
   "execution_count": 1,
   "metadata": {},
   "outputs": [],
   "source": [
    "import os,json,random,re"
   ]
  },
  {
   "cell_type": "markdown",
   "metadata": {},
   "source": [
    "#### from `doccano` we get character position labelling, need to convert it in token level labelling so that `GLiNER` can be finetuned"
   ]
  },
  {
   "cell_type": "code",
   "execution_count": 2,
   "metadata": {},
   "outputs": [
    {
     "name": "stdout",
     "output_type": "stream",
     "text": [
      "183\n"
     ]
    }
   ],
   "source": [
    "# reading the data in doccano jsonl output format\n",
    "with open('../data/merged_data.jsonl', 'r') as f:\n",
    "    lines = list(f)\n",
    "\n",
    "training_data: list = []\n",
    "\n",
    "for line in lines:\n",
    "    row = json.loads(line)\n",
    "    if row['label']:\n",
    "        row['text'] = re.sub(r'^\"', '\" ', row['text'])\n",
    "        row['text'] = re.sub(r'\"$', ' \"', row['text'])\n",
    "        tokenized_text = row['text'].split()\n",
    "\n",
    "        ner_label = []\n",
    "\n",
    "        # print(row['text'])\n",
    "        for i in row['label']:\n",
    "            i[0]=i[0]+1\n",
    "            i[1]=i[1]+1\n",
    "        for i in row['label']:\n",
    "            pos_count = 0\n",
    "            token_count = 0\n",
    "            start_token_count = None\n",
    "            end_token_count = None\n",
    "            # print(i)\n",
    "            for j in row['text']:\n",
    "                if j==' ':\n",
    "                    token_count += 1\n",
    "                pos_count += 1\n",
    "                if pos_count==i[0]:\n",
    "                    start_token_count = token_count\n",
    "                if pos_count==i[1]:\n",
    "                    end_token_count = token_count\n",
    "            ner_label.append([start_token_count,end_token_count,i[-1]])\n",
    "        training_data.append({\"tokenized_text\": tokenized_text,\"ner\":ner_label})\n",
    "\n",
    "\n",
    "random.shuffle(training_data)\n",
    "\n",
    "print(len(training_data))\n",
    "\n",
    "with open('../data/merged_data.json', 'w') as outfile:\n",
    "    json.dump(training_data, outfile, indent=4)"
   ]
  }
 ],
 "metadata": {
  "kernelspec": {
   "display_name": ".dev_env",
   "language": "python",
   "name": "python3"
  },
  "language_info": {
   "codemirror_mode": {
    "name": "ipython",
    "version": 3
   },
   "file_extension": ".py",
   "mimetype": "text/x-python",
   "name": "python",
   "nbconvert_exporter": "python",
   "pygments_lexer": "ipython3",
   "version": "3.12.5"
  }
 },
 "nbformat": 4,
 "nbformat_minor": 2
}
