{
 "cells": [
  {
   "cell_type": "markdown",
   "metadata": {},
   "source": [
    "```\n",
    "\n",
    "Chat Engine - Condense Plus Context Mode\n",
    "\n",
    "This is a multi-step chat mode built on top of a retriever over your data.\n",
    "\n",
    "For each chat interaction:\n",
    "\n",
    "    First condense a conversation and latest user message to a standalone question\n",
    "    Then build a context for the standalone question from a retriever,\n",
    "    Then pass the context along with prompt and user message to LLM to generate a response.\n",
    "\n",
    "This approach is simple, and works for questions directly related to the knowledge base and general interactions.\n",
    "```"
   ]
  },
  {
   "cell_type": "code",
   "execution_count": 1,
   "metadata": {},
   "outputs": [
    {
     "name": "stderr",
     "output_type": "stream",
     "text": [
      "c:\\Users\\snehi\\Desktop\\Learning\\.dev_env\\Lib\\site-packages\\tqdm\\auto.py:21: TqdmWarning: IProgress not found. Please update jupyter and ipywidgets. See https://ipywidgets.readthedocs.io/en/stable/user_install.html\n",
      "  from .autonotebook import tqdm as notebook_tqdm\n"
     ]
    }
   ],
   "source": [
    "import os\n",
    "\n",
    "# creating embeddings\n",
    "from llama_index.embeddings.huggingface import HuggingFaceEmbedding\n",
    "from llama_index.core import Settings\n",
    "Settings.embed_model = HuggingFaceEmbedding(\n",
    "    model_name=\"BAAI/bge-small-en-v1.5\"\n",
    ")\n",
    "\n",
    "# reloading index\n",
    "\n",
    "from llama_index.core import StorageContext, load_index_from_storage\n",
    "\n",
    "# rebuild storage context\n",
    "storage_context = StorageContext.from_defaults(persist_dir=\"embed_dir/\")\n",
    "\n",
    "# load index\n",
    "index = load_index_from_storage(storage_context)\n",
    "\n",
    "from llama_index.llms.ollama import Ollama\n",
    "\n",
    "# ollama\n",
    "Settings.llm = Ollama(model=\"llama2\", request_timeout=180.0)"
   ]
  },
  {
   "cell_type": "code",
   "execution_count": 5,
   "metadata": {},
   "outputs": [],
   "source": [
    "from llama_index.core.memory import ChatMemoryBuffer\n",
    "\n",
    "memory = ChatMemoryBuffer.from_defaults(token_limit=10000)\n",
    "\n",
    "chat_engine = index.as_chat_engine(\n",
    "    chat_mode=\"condense_plus_context\",\n",
    "    memory=memory,\n",
    "    llm=Settings.llm,\n",
    "    context_prompt=(\n",
    "        \"You are a chatbot, able to have normal interactions, as well as talk\"\n",
    "        \" about discussions around coffee in r/indiacoffee subreddit\"\n",
    "        \"Here are the relevant documents for the context:\\n\"\n",
    "        \"{context_str}\"\n",
    "        \"\\nInstruction: Use the previous chat history, or the context above, to interact and help the user.\"\n",
    "    ),\n",
    "    verbose=False,\n",
    ")"
   ]
  },
  {
   "cell_type": "code",
   "execution_count": 3,
   "metadata": {},
   "outputs": [
    {
     "name": "stdout",
     "output_type": "stream",
     "text": [
      "Hello there! *adjusts aviator glasses* It's a great question you ask. From what I've observed in the r/indiacoffee subreddit, it seems that many coffee enthusiasts tend to prefer Arabica over Robusta. The reason being is that Arabica beans are generally considered to have a more complex and nuanced flavor profile compared to Robusta.\n",
      "\n",
      "Arabica beans contain more antioxidants and have a smoother, less bitter taste, which many people find more appealing. Additionally, Arabica beans are grown at high elevations and require more care and attention during the cultivation process, which can result in a higher quality final product.\n",
      "\n",
      "On the other hand, Robusta beans are often seen as more bitter and have a harsher flavor profile. While they may have a harder punch of caffeine, many people find this trade-off to be not worth it. However, some specialty roasters do offer high-quality Robusta beans that are well-balanced and have a unique flavor profile that sets them apart from other types of coffee.\n",
      "\n",
      "It's worth noting that the preferences of coffee enthusiasts can vary greatly, and some people may enjoy the bold and robust taste of Robusta beans more than the smoother, more complex flavor of Arabica. Ultimately, it comes down to personal taste and what each individual is looking for in their coffee.\n",
      "\n",
      "What about you? Do you prefer Arabica or Robusta beans? *adjusts glasses*\n"
     ]
    }
   ],
   "source": [
    "response = chat_engine.chat(\"do people prefer arabica or robusta coffee beans?\")\n",
    "print(response)"
   ]
  },
  {
   "cell_type": "code",
   "execution_count": null,
   "metadata": {},
   "outputs": [],
   "source": []
  }
 ],
 "metadata": {
  "kernelspec": {
   "display_name": ".dev_env",
   "language": "python",
   "name": "python3"
  },
  "language_info": {
   "codemirror_mode": {
    "name": "ipython",
    "version": 3
   },
   "file_extension": ".py",
   "mimetype": "text/x-python",
   "name": "python",
   "nbconvert_exporter": "python",
   "pygments_lexer": "ipython3",
   "version": "3.11.9"
  }
 },
 "nbformat": 4,
 "nbformat_minor": 2
}
