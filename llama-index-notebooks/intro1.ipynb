{
 "cells": [
  {
   "cell_type": "markdown",
   "metadata": {},
   "source": [
    "#### This notebook is just to show how rag can be useful, we will just feed data as text and will observe the answers to see that when context is provided answers are much relevant . No optimization have been done , default data load and using ollama2 as model"
   ]
  },
  {
   "cell_type": "code",
   "execution_count": 39,
   "metadata": {},
   "outputs": [],
   "source": [
    "from llama_index.readers.database import DatabaseReader\n",
    "from llama_index.core import VectorStoreIndex\n",
    "from dotenv import load_dotenv\n",
    "import os"
   ]
  },
  {
   "cell_type": "code",
   "execution_count": 40,
   "metadata": {},
   "outputs": [
    {
     "data": {
      "text/plain": [
       "True"
      ]
     },
     "execution_count": 40,
     "metadata": {},
     "output_type": "execute_result"
    }
   ],
   "source": [
    "# Load the environment variables\n",
    "load_dotenv('..\\.env')"
   ]
  },
  {
   "cell_type": "code",
   "execution_count": 41,
   "metadata": {},
   "outputs": [],
   "source": [
    "# Initialize DatabaseReader object with the following parameters:\n",
    "\n",
    "db = DatabaseReader(\n",
    "    scheme=\"postgresql\",  # Database Scheme\n",
    "    host=os.getenv(\"DB_HOST\"),  # Database Host\n",
    "    port=os.getenv(\"DB_PORT\"),  # Database Port\n",
    "    user=os.getenv(\"DB_USER\"),  # Database User\n",
    "    password=os.getenv(\"DB_PASSWORD\"),  # Database Password\n",
    "    dbname=os.getenv(\"DB_NAME\"),  # Database Name\n",
    ")"
   ]
  },
  {
   "cell_type": "code",
   "execution_count": 42,
   "metadata": {},
   "outputs": [
    {
     "name": "stdout",
     "output_type": "stream",
     "text": [
      "<class 'llama_index.readers.database.base.DatabaseReader'>\n",
      "<class 'method'>\n",
      "<class 'llama_index.core.utilities.sql_wrapper.SQLDatabase'>\n",
      "<class 'method'>\n",
      "<class 'method'>\n",
      "<class 'method'>\n",
      "<class 'method'>\n",
      "<class 'method'>\n",
      "<class 'method'>\n",
      "<class 'str'>\n",
      "<class 'sqlalchemy.engine.base.Engine'>\n"
     ]
    }
   ],
   "source": [
    "### DatabaseReader class ###\n",
    "# db is an instance of DatabaseReader:\n",
    "print(type(db))\n",
    "# DatabaseReader available method:\n",
    "print(type(db.load_data))\n",
    "\n",
    "### SQLDatabase class ###\n",
    "# db.sql is an instance of SQLDatabase:\n",
    "print(type(db.sql_database))\n",
    "# SQLDatabase available methods:\n",
    "print(type(db.sql_database.from_uri))\n",
    "print(type(db.sql_database.get_single_table_info))\n",
    "print(type(db.sql_database.get_table_columns))\n",
    "print(type(db.sql_database.get_usable_table_names))\n",
    "print(type(db.sql_database.insert_into_table))\n",
    "print(type(db.sql_database.run_sql))\n",
    "# SQLDatabase available properties:\n",
    "print(type(db.sql_database.dialect))\n",
    "print(type(db.sql_database.engine))"
   ]
  },
  {
   "cell_type": "code",
   "execution_count": 43,
   "metadata": {},
   "outputs": [],
   "source": [
    "# The below SQL Query example returns comments from subreddit indiacoffee posts\n",
    "\n",
    "query = f\"\"\"\n",
    "    SELECT\n",
    "        body AS text\n",
    "    FROM public.indiacoffee_comments\n",
    "    \"\"\""
   ]
  },
  {
   "cell_type": "code",
   "execution_count": 47,
   "metadata": {},
   "outputs": [],
   "source": [
    "texts = db.sql_database.run_sql(command=query)"
   ]
  },
  {
   "cell_type": "code",
   "execution_count": 48,
   "metadata": {},
   "outputs": [
    {
     "name": "stdout",
     "output_type": "stream",
     "text": [
      "<class 'tuple'>\n"
     ]
    }
   ],
   "source": [
    "print(type(texts))"
   ]
  },
  {
   "cell_type": "code",
   "execution_count": 50,
   "metadata": {},
   "outputs": [
    {
     "name": "stdout",
     "output_type": "stream",
     "text": [
      "[('Nice article. This is my regular coffee now, since they started selling it. I was taken aback after the first sip kinda gave me strawberry notes. I never thought some coffee in India could produce such wonderful tasting notes.',), ('Exactly! Just love it. I finished it under 7 days. Today is the last day.',), (\" I just hope they don't take it off the list. This is better than most AAA coffee sold in India, In my opinion\",), (\"Hey I am trying to get into brewing coffee and leave the instant coffee what do you recommend for my first try of blue tokai coffee (thinking of buying a Channi grind as I don't have any special equipment)\",), ('So happy to hear this. You should totally go for Channi grind although you can even try the easy pour satchels. \\n\\nI would recommend going for Attiknan Estate, since it has balanced flavours. \\n\\nDrinking and making specialty coffee for this first time, can be a very frustrating and confusing...',), ('Thinking of going for https://bluetokaicoffee.com/c\n"
     ]
    }
   ],
   "source": [
    "print(texts[0][:1000])"
   ]
  },
  {
   "cell_type": "code",
   "execution_count": 52,
   "metadata": {},
   "outputs": [],
   "source": [
    "documents = db.load_data(query=query)"
   ]
  },
  {
   "cell_type": "code",
   "execution_count": 53,
   "metadata": {},
   "outputs": [
    {
     "name": "stdout",
     "output_type": "stream",
     "text": [
      "<class 'list'>\n"
     ]
    }
   ],
   "source": [
    "print(type(documents))"
   ]
  },
  {
   "cell_type": "code",
   "execution_count": 54,
   "metadata": {},
   "outputs": [],
   "source": [
    "# print(documents)"
   ]
  },
  {
   "cell_type": "code",
   "execution_count": 1,
   "metadata": {},
   "outputs": [
    {
     "name": "stderr",
     "output_type": "stream",
     "text": [
      "c:\\Users\\snehi\\Desktop\\Learning\\.dev_env\\Lib\\site-packages\\tqdm\\auto.py:21: TqdmWarning: IProgress not found. Please update jupyter and ipywidgets. See https://ipywidgets.readthedocs.io/en/stable/user_install.html\n",
      "  from .autonotebook import tqdm as notebook_tqdm\n"
     ]
    }
   ],
   "source": [
    "# creating embeddings\n",
    "from llama_index.embeddings.huggingface import HuggingFaceEmbedding\n",
    "from llama_index.core import Settings\n",
    "Settings.embed_model = HuggingFaceEmbedding(\n",
    "    model_name=\"BAAI/bge-small-en-v1.5\"\n",
    ")"
   ]
  },
  {
   "cell_type": "code",
   "execution_count": 3,
   "metadata": {},
   "outputs": [
    {
     "name": "stdout",
     "output_type": "stream",
     "text": [
      "1024\n",
      "200\n"
     ]
    }
   ],
   "source": [
    "print(Settings.chunk_size)\n",
    "print(Settings.chunk_overlap)"
   ]
  },
  {
   "cell_type": "code",
   "execution_count": null,
   "metadata": {},
   "outputs": [],
   "source": [
    "# can change chunk_size and chunk_overlap\n",
    "# Settings.chunk_size = 512\n",
    "# Settings.chunk_overlap = 50"
   ]
  },
  {
   "cell_type": "code",
   "execution_count": 17,
   "metadata": {},
   "outputs": [],
   "source": [
    "# creating index\n",
    "index = VectorStoreIndex.from_documents(documents)"
   ]
  },
  {
   "cell_type": "code",
   "execution_count": 22,
   "metadata": {},
   "outputs": [],
   "source": [
    "# storing index in folder\n",
    "index.storage_context.persist(persist_dir=\"embed_dir/\")"
   ]
  },
  {
   "cell_type": "code",
   "execution_count": 57,
   "metadata": {},
   "outputs": [],
   "source": [
    "# reloading index\n",
    "\n",
    "from llama_index.core import StorageContext, load_index_from_storage\n",
    "\n",
    "# rebuild storage context\n",
    "storage_context = StorageContext.from_defaults(persist_dir=\"embed_dir/\")\n",
    "\n",
    "# load index\n",
    "index = load_index_from_storage(storage_context)"
   ]
  },
  {
   "cell_type": "code",
   "execution_count": 58,
   "metadata": {},
   "outputs": [],
   "source": [
    "from llama_index.core import VectorStoreIndex, SimpleDirectoryReader, Settings\n",
    "from llama_index.core.embeddings import resolve_embed_model\n",
    "from llama_index.llms.ollama import Ollama\n",
    "\n",
    "# ollama\n",
    "Settings.llm = Ollama(model=\"llama2\", request_timeout=60.0)"
   ]
  },
  {
   "cell_type": "markdown",
   "metadata": {},
   "source": [
    "### `output without context - the responses are not at all relevant to indian coffee community discussions`"
   ]
  },
  {
   "cell_type": "code",
   "execution_count": 60,
   "metadata": {},
   "outputs": [
    {
     "name": "stdout",
     "output_type": "stream",
     "text": [
      "\n",
      "There are many great coffee roasters out there, and the best one for you will depend on your personal preferences and tastes. Here are some highly-regarded coffee roasters that you may want to consider:\n",
      "\n",
      "1. Intelligentsia Coffee Roasters (Chicago, IL): Known for their high-quality, artisanal coffee beans and extensive knowledge of the coffee industry.\n",
      "2. Stumptown Coffee Roasters (Portland, OR): A popular roaster with a strong reputation for their direct trade practices and unique blends.\n",
      "3. Blue Bottle Coffee (Oakland, CA): This small-batch roaster is known for their carefully sourced, expertly roasted beans and modern coffee bars.\n",
      "4. Four Barrel Coffee (San Francisco, CA): A popular roaster with a strong commitment to sustainability and ethical sourcing, as well as delicious coffee.\n",
      "5. La Colombe Coffee Roasters (Philadelphia, PA): This roaster has gained a following for their ethically sourced, expertly roasted beans and cafes in multiple locations.\n",
      "6. Toby's Estate Coffee Roasters (New York, NY): A Brooklyn-based roaster with a focus on quality and sustainability, as well as a great selection of coffee blends.\n",
      "7. Verve Coffee Roasters (Santa Cruz, CA): This small-batch roaster is known for their high-quality beans and modern coffee bars.\n",
      "8. Ritual Coffee Roasters (San Francisco, CA): A popular roaster with a focus on ethical sourcing and delicious, unique blends.\n",
      "9. Square Mile Coffee Roasters (London, UK): This UK-based roaster is known for their high-quality, expertly roasted beans and commitment to ethical sourcing.\n",
      "10. Death Wish Coffee Co. (Buffalo, NY): A unique roaster with a focus on strong, bold blends that are perfect for coffee connoisseurs.\n",
      "\n",
      "These are just a few examples of highly-regarded coffee roasters, and there are many other great roasters out there as well. When choosing a roaster, consider factors such as the quality of their beans, their ethical sourcing practices, and their overall reputation in the coffee industry.\n"
     ]
    }
   ],
   "source": [
    "llm_without_context = Ollama(model=\"llama2\", request_timeout=60.0)\n",
    "resp = llm_without_context.complete(\"what are some best coffee roasters?\")\n",
    "print(resp)"
   ]
  },
  {
   "cell_type": "code",
   "execution_count": 62,
   "metadata": {},
   "outputs": [
    {
     "name": "stdout",
     "output_type": "stream",
     "text": [
      "\n",
      "Savour Works Roasters is a well-known specialty coffee roaster based in Toronto, Canada. They offer a variety of high-quality coffee blends that are crafted to showcase the unique flavor profiles of each coffee bean. Here are some of the best blends from Savour Works Roasters:\n",
      "\n",
      "1. Ethiopian Yirgacheffe: This is a classic blend that features bright acidity and floral notes, with hints of citrus and berries. It's a great choice for those who prefer a more delicate and refined cup of coffee.\n",
      "2. Brazilian Fazenda: This blend is a rich and full-bodied coffee with notes of chocolate, caramel, and nuts. It's roasted to perfection to bring out the sweet and smooth flavors that Brazilian coffee is known for.\n",
      "3. Kenyan Gethumbi: This blend has a bright and complex flavor profile with notes of fruit, floral, and tea-like flavors. It's a great choice for those who enjoy a more acidic and complex cup of coffee.\n",
      "4. Colombian Supremo: This blend is a medium-bodied coffee with a smooth and balanced flavor profile. It has notes of caramel, chocolate, and fruit, making it a great all-around coffee that's perfect for everyday drinking.\n",
      "5. Sumatran Mandheling: This blend has a rich and earthy flavor profile with notes of fruit, spice, and herbs. It's a great choice for those who enjoy a more full-bodied and complex cup of coffee.\n",
      "6. Costa Rican Tarrazu: This blend is a medium-bodied coffee with bright acidity and a smooth finish. It has notes of citrus, berries, and tropical fruit, making it a great choice for those who enjoy a more balanced and refreshing cup of coffee.\n",
      "7. Guatemalan Antigua: This blend is a rich and complex coffee with notes of chocolate, fruit, and spice. It's roasted to bring out the sweet and smooth flavors that Guatemalan coffee is known for.\n",
      "8. Rwandan Bourbon: This blend has a bright and fruity flavor profile with notes of citrus, berries, and floral hints. It's a great choice for those who enjoy a more acidic and complex cup of coffee.\n",
      "9. Sumatran Mandheling Decaf: This blend is a rich and earthy decaf coffee with notes of fruit, spice, and herbs. It's a great choice for those who want to enjoy the flavors of Sumatran coffee without the caffeine content.\n",
      "10. Honduran Marcala: This blend is a medium-bodied coffee with a smooth and balanced flavor profile. It has notes of caramel, chocolate, and fruit, making it a great choice for those who enjoy a more all-around coffee that's perfect for everyday drinking.\n",
      "\n",
      "These are just a few of the best blends from Savour Works Roasters, but they offer many other delicious options as well. Be sure to check out their website or visit one of their cafes to try some of these blends and discover your new favorite coffee!\n"
     ]
    }
   ],
   "source": [
    "resp = llm_without_context.complete(\"what are best blends from Savour Works roasters?\")\n",
    "print(resp)"
   ]
  },
  {
   "cell_type": "code",
   "execution_count": 68,
   "metadata": {},
   "outputs": [
    {
     "name": "stdout",
     "output_type": "stream",
     "text": [
      "Devan Roasters is a well-known coffee roastery based in India, and they offer a wide range of delicious blends. Here are some popular blends from Devan Roasters that you might want to try:\n",
      "\n",
      "1. Devan's Delight: A classic blend of Indian and African coffee beans, with notes of chocolate and caramel.\n",
      "2. Coffee Fusion: A unique blend of Ethiopian Yirgacheffe, Brazilian Santos, and Indonesian Sumatran coffee beans, resulting in a smooth and well-balanced cup.\n",
      "3. Decaffeinated Delight: A decaf version of Devan's Delight, perfect for those who want to enjoy the rich flavors of Indian and African coffee without the caffeine kick.\n",
      "4. Espresso Roast: A dark roast blend of Arabica beans from India, Ethiopia, and Brazil, with a bold and intense flavor profile.\n",
      "5. French Roast: A smoky and rich blend of Arabica beans from India, Vietnam, and Indonesia, with a deep, smooth flavor and a slightly sweet aftertaste.\n",
      "6. Costa Rican Tarrazu: A medium roast blend of Arabica beans from Costa Rica, with a balanced acidity and a fruity, floral flavor profile.\n",
      "7. Kenyan AA: A bright and complex blend of Arabica beans from Kenya, with notes of citrus, berries, and honey.\n",
      "8. Sumatran Mandheling: A full-bodied blend of Arabica beans from Indonesia, with a rich, earthy flavor profile and a hint of muskiness.\n",
      "9. Guatemalan Antigua: A balanced blend of Arabica beans from Guatemala, with notes of chocolate, caramel, and fruit.\n",
      "10. Colombian Supremo: A well-balanced blend of Arabica beans from Colombia, with a smooth, sweet flavor profile and a hint of citrus.\n",
      "\n",
      "These are just a few of the many blends available from Devan Roasters. They also offer custom blends and seasonal selections, so be sure to check their website or visit one of their cafes for more options!\n"
     ]
    }
   ],
   "source": [
    "resp = llm_without_context.complete(\"what are good blends from devan roasters?\")\n",
    "print(resp)"
   ]
  },
  {
   "cell_type": "markdown",
   "metadata": {},
   "source": [
    "### `output with context  - the responses reflects the community discussions`"
   ]
  },
  {
   "cell_type": "code",
   "execution_count": 59,
   "metadata": {},
   "outputs": [
    {
     "name": "stdout",
     "output_type": "stream",
     "text": [
      "There are several excellent coffee roasters available, each offering unique flavor profiles and roasting techniques. To name a few, you may want to consider:\n",
      "\n",
      "1. Subko: Known for their high-quality, small-batch roasts, Subko offers a range of darker roasts with notes of caramel, toffee, and bitter chocolate.\n",
      "2. qbf: This coffee roaster is particularly known for its medium to dark roasts, with a focus on fruity flavors like stone fruits and cherries.\n",
      "3. Savour Works: Offering a variety of roast levels, from light to dark, Savour Works is a great option for those who prefer a more balanced taste.\n",
      "4. Araku: This coffee roaster is known for its organic and fair-trade practices, as well as its unique blends with flavors like chocolate and nuts.\n",
      "5. Naivo: With a focus on small-batch, specialty coffee, Naivo offers a range of darker roasts with notes of caramel, toffee, and bitter chocolate.\n",
      "6. Half Light: This coffee roaster is known for its medium roasts with a smooth, balanced taste and a hint of fruitiness.\n",
      "\n",
      "When it comes to the best coffee roasters, it ultimately depends on your personal preferences. Consider exploring each roaster's website and tasting their coffees to find the one that suits your taste buds the best. Additionally, investing in a good grinder can make a significant difference in the flavor of your coffee, as whole beans generally produce better results than pre-ground coffee.\n"
     ]
    }
   ],
   "source": [
    "query_engine = index.as_query_engine()\n",
    "response = query_engine.query(\"what are some best coffee roasters?\")\n",
    "print(response)"
   ]
  },
  {
   "cell_type": "code",
   "execution_count": 61,
   "metadata": {},
   "outputs": [
    {
     "name": "stdout",
     "output_type": "stream",
     "text": [
      "The best blends from Savorworks roasters are unquestionably their signature Fruits Bomb. This coffee is a must-try for anyone looking for a fruity and top-tier coffee experience. Additionally, the medium-light roasts offered by Fraction9 are also highly recommended, particularly their Breakfast Roast and Sweet Roast.\n"
     ]
    }
   ],
   "source": [
    "response = query_engine.query(\"what are best blends from Savour Works roasters?\")\n",
    "print(response)"
   ]
  },
  {
   "cell_type": "code",
   "execution_count": 67,
   "metadata": {},
   "outputs": [
    {
     "name": "stdout",
     "output_type": "stream",
     "text": [
      "Devans is a traditional second wave coffee roaster known for offering good-quality coffee at an affordable price. While their coffees may not be the highest quality, they are still a great value for money, especially if you prefer darker roasts. Based on the context information provided, it seems that Devans is a good brand for those who enjoy darker roasts. However, personally, the speaker prefers light to medium roasts and buys from other brands such as Savorworks, Blue Tokai, Bloom Coffee, and others. Additionally, the speaker recommends buying directly from the roaster rather than through Amazon.\n"
     ]
    }
   ],
   "source": [
    "response = query_engine.query(\"what are good blends from devan roasters?\")\n",
    "print(response)"
   ]
  },
  {
   "cell_type": "code",
   "execution_count": 75,
   "metadata": {},
   "outputs": [
    {
     "name": "stdout",
     "output_type": "stream",
     "text": [
      "Based on the context provided, it is recommended to purchase the Timemore C2 grinder. This grinder is considered a great value for money and is suitable for those who are looking for a good grind without breaking the bank. Additionally, if you cannot afford the Timemore C2, the cheap burr grinder from Amazon is also suggested as it provides high-end specs at an affordable price. However, it is important to note that the Aeropress is also recommended as it is a forgiving coffee equipment that is relatively simple to use and can produce decent cups of coffee. Ultimately, the choice of grinder will depend on your personal preferences and budget.\n"
     ]
    }
   ],
   "source": [
    "response = query_engine.query(\"which coffee grinder to buy for good grind from the context provided?\")\n",
    "print(response)"
   ]
  },
  {
   "cell_type": "code",
   "execution_count": null,
   "metadata": {},
   "outputs": [],
   "source": []
  }
 ],
 "metadata": {
  "kernelspec": {
   "display_name": "Python 3",
   "language": "python",
   "name": "python3"
  },
  "language_info": {
   "codemirror_mode": {
    "name": "ipython",
    "version": 3
   },
   "file_extension": ".py",
   "mimetype": "text/x-python",
   "name": "python",
   "nbconvert_exporter": "python",
   "pygments_lexer": "ipython3",
   "version": "3.11.9"
  }
 },
 "nbformat": 4,
 "nbformat_minor": 2
}
