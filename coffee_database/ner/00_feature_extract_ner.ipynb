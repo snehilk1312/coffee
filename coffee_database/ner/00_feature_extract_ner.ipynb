{
 "cells": [
  {
   "cell_type": "markdown",
   "metadata": {},
   "source": [
    "### Loading and trying the model with new data"
   ]
  },
  {
   "cell_type": "code",
   "execution_count": 94,
   "metadata": {},
   "outputs": [],
   "source": [
    "import warnings\n",
    "# Suppress all warnings\n",
    "warnings.filterwarnings(\"ignore\")"
   ]
  },
  {
   "cell_type": "code",
   "execution_count": 95,
   "metadata": {},
   "outputs": [],
   "source": [
    "import sys\n",
    "import os\n",
    "\n",
    "# Add the path to the directory containing the attribute_cleaner module\n",
    "sys.path.append(os.path.abspath(\"../transformer\"))\n",
    "\n",
    "# Now you can import text_cleaner\n",
    "from attribute_cleaner.general_string_cleaner import text_cleaner"
   ]
  },
  {
   "cell_type": "code",
   "execution_count": 96,
   "metadata": {},
   "outputs": [],
   "source": [
    "# Import the spaCy library\n",
    "import spacy\n",
    "\n",
    "# Load the trained spaCy NER model from the specified path\n",
    "nlp1 = spacy.load('/Users/snehil/Work/self/coffee/coffee_database/ner/output_try_3/model-best/')\n",
    "nlp2 = spacy.load('/Users/snehil/Work/self/coffee/coffee_database/ner/output_try_4/model-best/')\n"
   ]
  },
  {
   "cell_type": "code",
   "execution_count": 97,
   "metadata": {},
   "outputs": [],
   "source": [
    "def return_each_label(text,nlp):\n",
    "    doc = nlp(text.lower())\n",
    "\n",
    "    return_dict = {}\n",
    "    \n",
    "    for ent in doc.ents:\n",
    "        # print(ent.label_)\n",
    "        if ent.label_ not in return_dict.keys():\n",
    "            return_dict[ent.label_] = [ent.text]\n",
    "        else:\n",
    "            return_dict[ent.label_].append(ent.text)\n",
    "\n",
    "    final_dict = {}\n",
    "\n",
    "    for key,val in return_dict.items():\n",
    "        final_dict[key] = list(set(return_dict[key]))\n",
    "    return final_dict"
   ]
  },
  {
   "cell_type": "code",
   "execution_count": 98,
   "metadata": {},
   "outputs": [],
   "source": [
    "text = \"\"\"\n",
    "Jasmine kissed cranberry - 100 % arabica that is sourced from Chikmagalur, \n",
    "grown at an altitude of approximately 4,100ft to 4,500ft. \n",
    "It gets its unique name through a process which include a strain of yeast used \n",
    "to create a carbon dioxide-rich environment during fermentation in stainless-steel fermenters.\n",
    "A remarkable level of complexity in the beans is created by this process, \n",
    "laying the groundwork for a wonderful cup of coffee. Steady drying on raised beds is the next important step, \n",
    "which lets the flavors gradually develop and intensify. After another 30 days of continuous stirring, \n",
    "the coffee undergo additional drying developing scent of jasmine, complex notes of \n",
    "raspberries, cranberries, and sparkling malic acidity with a lingering floral aftertaste \n",
    "\"\"\""
   ]
  },
  {
   "cell_type": "code",
   "execution_count": 6,
   "metadata": {},
   "outputs": [
    {
     "data": {
      "text/plain": [
       "{'TASTING NOTES': ['raspberries', 'jasmine', 'cranberries'],\n",
       " 'COFFEE TYPE': ['arabica'],\n",
       " 'LOCATION': ['chikmagalur'],\n",
       " 'ELEVATION': ['4 , 100ft'],\n",
       " 'ACIDITY': ['malic'],\n",
       " 'COFFEE_PROPERTIES': ['floral']}"
      ]
     },
     "execution_count": 6,
     "metadata": {},
     "output_type": "execute_result"
    }
   ],
   "source": [
    "return_each_label(text_cleaner(text),nlp1)"
   ]
  },
  {
   "cell_type": "code",
   "execution_count": 7,
   "metadata": {},
   "outputs": [
    {
     "data": {
      "text/plain": [
       "{'TASTING NOTES': ['raspberries', 'cranberry', 'jasmine', 'cranberries'],\n",
       " 'COFFEE TYPE': ['arabica'],\n",
       " 'LOCATION': ['chikmagalur'],\n",
       " 'ELEVATION': ['4 , 100ft'],\n",
       " 'AROMA': ['jasmine'],\n",
       " 'ACIDITY': ['malic'],\n",
       " 'COFFEE_PROPERTIES': ['floral']}"
      ]
     },
     "execution_count": 7,
     "metadata": {},
     "output_type": "execute_result"
    }
   ],
   "source": [
    "return_each_label(text_cleaner(text),nlp2)"
   ]
  },
  {
   "cell_type": "code",
   "execution_count": 8,
   "metadata": {},
   "outputs": [],
   "source": [
    "text =\"\"\"\n",
    "Single origin Indian Coffee From Moganad Estate, Tamil Nadu which is a 100% Arabiaca coffee with \n",
    "an exquisite blend of balanced sweetness and brightness. A Medium Dark Roast coffee with \n",
    "flavor notes of Cocoa, Caramel and Nut which can also be enjoyed in a French press, moka pot, aeropress & espresso .\n",
    " It is washed processed, grown at an altitude of around 4430 ft\n",
    "\"\"\""
   ]
  },
  {
   "cell_type": "code",
   "execution_count": 9,
   "metadata": {},
   "outputs": [
    {
     "data": {
      "text/plain": [
       "{'ESTATE': ['moganad'],\n",
       " 'LOCATION': ['tamil nadu'],\n",
       " 'COFFEE TYPE': ['arabiaca'],\n",
       " 'ROAST LEVEL': ['medium dark'],\n",
       " 'TASTING NOTES': ['cocoa', 'nut', 'caramel'],\n",
       " 'PROCESSING': ['washed'],\n",
       " 'ELEVATION': ['4430 ft']}"
      ]
     },
     "execution_count": 9,
     "metadata": {},
     "output_type": "execute_result"
    }
   ],
   "source": [
    "return_each_label(text_cleaner(text),nlp1)"
   ]
  },
  {
   "cell_type": "code",
   "execution_count": 10,
   "metadata": {},
   "outputs": [
    {
     "data": {
      "text/plain": [
       "{'ESTATE': ['moganad'],\n",
       " 'LOCATION': ['tamil nadu'],\n",
       " 'COFFEE TYPE': ['arabiaca'],\n",
       " 'ROAST LEVEL': ['medium dark'],\n",
       " 'TASTING NOTES': ['cocoa', 'nut', 'caramel'],\n",
       " 'PROCESSING': ['washed'],\n",
       " 'ELEVATION': ['4430 ft']}"
      ]
     },
     "execution_count": 10,
     "metadata": {},
     "output_type": "execute_result"
    }
   ],
   "source": [
    "return_each_label(text_cleaner(text),nlp2)"
   ]
  },
  {
   "cell_type": "code",
   "execution_count": 11,
   "metadata": {},
   "outputs": [],
   "source": [
    "text=\"\"\"\n",
    "tasting notes : toffee , hazelnut , milk chocolate \n",
    "roast level : espresso \n",
    "location-chikmagalur , kn \n",
    "altitude- 1400m \n",
    "varietal- selection 13 \n",
    "process-washed weight-250gm/1kg;\n",
    "\"\"\""
   ]
  },
  {
   "cell_type": "code",
   "execution_count": 12,
   "metadata": {},
   "outputs": [
    {
     "data": {
      "text/plain": [
       "{'TASTING NOTES': ['milk chocolate', 'toffee', 'hazelnut'],\n",
       " 'ROAST LEVEL': ['espresso'],\n",
       " 'LOCATION': ['chikmagalur'],\n",
       " 'ELEVATION': ['1400m'],\n",
       " 'VARIETAL': ['selection 13'],\n",
       " 'PROCESSING': ['washed']}"
      ]
     },
     "execution_count": 12,
     "metadata": {},
     "output_type": "execute_result"
    }
   ],
   "source": [
    "return_each_label(text_cleaner(text),nlp1)"
   ]
  },
  {
   "cell_type": "code",
   "execution_count": 13,
   "metadata": {},
   "outputs": [
    {
     "data": {
      "text/plain": [
       "{'TASTING NOTES': ['milk chocolate', 'toffee', 'hazelnut'],\n",
       " 'ROAST LEVEL': ['espresso'],\n",
       " 'LOCATION': ['chikmagalur'],\n",
       " 'ELEVATION': ['1400m'],\n",
       " 'VARIETAL': ['selection 13'],\n",
       " 'PROCESSING': ['washed']}"
      ]
     },
     "execution_count": 13,
     "metadata": {},
     "output_type": "execute_result"
    }
   ],
   "source": [
    "return_each_label(text_cleaner(text),nlp2)"
   ]
  },
  {
   "cell_type": "code",
   "execution_count": 14,
   "metadata": {},
   "outputs": [],
   "source": [
    "text = \"\"\" \n",
    "tasting notes : toffee , hazelnut , milk chocolate \n",
    "roast level : espressolocation- chikmagalur , \n",
    "knaltitude- 1400mvarietal- selection 13process- washed weight- 250gm/1kg\n",
    "\"\"\"\n"
   ]
  },
  {
   "cell_type": "code",
   "execution_count": 15,
   "metadata": {},
   "outputs": [
    {
     "data": {
      "text/plain": [
       "{'TASTING NOTES': ['milk chocolate', 'toffee', 'hazelnut'],\n",
       " 'LOCATION': ['chikmagalur'],\n",
       " 'VARIETAL': ['selection 13process'],\n",
       " 'PROCESSING': ['washed']}"
      ]
     },
     "execution_count": 15,
     "metadata": {},
     "output_type": "execute_result"
    }
   ],
   "source": [
    "return_each_label(text_cleaner(text),nlp1)"
   ]
  },
  {
   "cell_type": "code",
   "execution_count": 16,
   "metadata": {},
   "outputs": [
    {
     "data": {
      "text/plain": [
       "{'TASTING NOTES': ['milk chocolate', 'toffee', 'hazelnut'],\n",
       " 'LOCATION': ['chikmagalur'],\n",
       " 'VARIETAL': ['selection 13process'],\n",
       " 'PROCESSING': ['washed']}"
      ]
     },
     "execution_count": 16,
     "metadata": {},
     "output_type": "execute_result"
    }
   ],
   "source": [
    "return_each_label(text_cleaner(text),nlp2)"
   ]
  },
  {
   "cell_type": "code",
   "execution_count": 17,
   "metadata": {},
   "outputs": [],
   "source": [
    "text = \"\"\" \n",
    "\n",
    "our search for the immaculate espresso began when we were embraced by the warm welcome of \n",
    "ramdev and his parents shantha and nagesh as we drove through the gates of \n",
    "bettadamalali estate in early 2023 . a pristine farm nestled in the baba budan \n",
    "giri hills of chikmagalur , this place is more than a commercial operation – it \n",
    "is a garden of nature’s best delights . with scientific approaches to farming\n",
    "complemented by highly structured operations , bettadamalali produce some of the best washed \n",
    "arabicas we have encountered in recent times . the farm has been a long-term partner to our \n",
    "sister enterprise indcaffe – who have over the years exported several hundreds of tons of washed \n",
    "arabica for them to specialty houses in europe . we decided to grab our own little share of the \n",
    "treasure this year as we cycled through multiple lots to find this gem that would help us curate \n",
    "a delicious espresso . expect a sweet , rich-bodied liquor in your cup with a viscous creamy texture \n",
    "that will hug your palate closely before letting go . sweet honey and dark cocoa notes preceded by a \n",
    "savory aroma of roasted nuts together create a mesmerizing espresso that is testament to the great work \n",
    "of art that has been accomplished in the fields of bettadamalali estate . enjoy it black or hit it\n",
    "with milk ! honey cocoa roasted nuts our search for the immaculate espresso began when we were \n",
    "embraced by the warm welcome of ramdev and his parents shantha and nagesh as we drove through \n",
    "the gates of bettadamalali estate in early 2023 . a pristine farm nestled in the baba budan giri hills of \n",
    "chikmagalur , this place is more than a commercial operation – it is a garden of nature’s best delights . \n",
    "with scientific approaches to farming complemented by highly structured operations , \n",
    "bettadamalali produce some of the best washed arabicas we have encountered in recent times . \n",
    "the farm has been a long-term partner to our sister enterprise indcaffe – who have over \n",
    "the years exported several hundreds of tons of washed arabica for them to specialty houses in europe . \n",
    "we decided to grab our own little share of the treasure this year as we cycled through multiple \n",
    "lots to find this gem that would help us curate a delicious espresso . expect a sweet , \n",
    "rich-bodied liquor in your cup with a viscous creamy texture that will hug your palate closely before letting go . \n",
    "sweet honey and dark cocoa notes preceded by a savory aroma of roasted nuts together create a mesmerizing espresso \n",
    "that is testament to the great work of art that has been accomplished in the fields of bettadamalali estate . \n",
    "enjoy it black or hit it with milk\n",
    "\n",
    "\"\"\" "
   ]
  },
  {
   "cell_type": "code",
   "execution_count": 18,
   "metadata": {},
   "outputs": [
    {
     "data": {
      "text/plain": [
       "{'FARMER': ['shantha', 'ramdev', 'nagesh'],\n",
       " 'ESTATE': ['bettadamalali'],\n",
       " 'LOCATION': ['baba budan giri hills of chikmagalur ,'],\n",
       " 'PROCESSING': ['washed'],\n",
       " 'COFFEE TYPE': ['arabica', 'arabicas'],\n",
       " 'BODY': ['rich - bodied'],\n",
       " 'TASTING NOTES': ['roasted nuts', 'honey', 'dark cocoa', 'cocoa']}"
      ]
     },
     "execution_count": 18,
     "metadata": {},
     "output_type": "execute_result"
    }
   ],
   "source": [
    "return_each_label(text_cleaner(text),nlp1)"
   ]
  },
  {
   "cell_type": "code",
   "execution_count": 19,
   "metadata": {},
   "outputs": [
    {
     "data": {
      "text/plain": [
       "{'ESTATE': ['bettadamalali'],\n",
       " 'LOCATION': ['baba budan giri', 'chikmagalur'],\n",
       " 'COFFEE TYPE': ['arabica', 'arabicas'],\n",
       " 'BODY': ['rich', 'sweet'],\n",
       " 'TEXTURE': ['creamy'],\n",
       " 'TASTING NOTES': ['sweet honey', 'dark cocoa'],\n",
       " 'AROMA': ['roasted nuts', 'roasted nuts our'],\n",
       " 'PROCESSING': ['washed']}"
      ]
     },
     "execution_count": 19,
     "metadata": {},
     "output_type": "execute_result"
    }
   ],
   "source": [
    "return_each_label(text_cleaner(text),nlp2)"
   ]
  },
  {
   "cell_type": "markdown",
   "metadata": {},
   "source": [
    "##### Even though transformer based model seems to be an overkill, the 3rd iteration is certainly an step up from last 2 iteration of same model !"
   ]
  },
  {
   "cell_type": "code",
   "execution_count": 115,
   "metadata": {},
   "outputs": [],
   "source": [
    "text = input()"
   ]
  },
  {
   "cell_type": "code",
   "execution_count": 116,
   "metadata": {},
   "outputs": [
    {
     "name": "stdout",
     "output_type": "stream",
     "text": [
      "This coffee has a deep and sweet fragrance of chocolate and mature red fruits. It is robust in body, smooth to the tongue and has a rich and lingering aftertaste. Certification: \t  Rainforest Certified Origin: \t  Coorg, Karnataka Elevation: \t 1000 -m above sea level Processing Method: \t  Washed C x R Roast Level: \t  City Roast / Medium Cultivars: \t  C x R Grade: \t Clean Bulk   Recommended Brewing:  We love Sandalkad Fine Robusta in a Cappuccino form the most. We sprinkle a dash of cacao powder to give it a final touch. The combination with milk hits the spot and even enjoyed just black with a good AeroPress Pull.  The Story:  From the hills of Coorg, Sandalkad Estates grows Robusta coffee to its maximum potential. Taking every step to produce signature post harvesting recipes, for a unique flavour, clean taste and deep body. Long fermentations and slow drying reduces the bitterness and the woodiness typical of the commercial grades of Robusta. With this coffee, we are taking the first steps to show the world that, with enough skills and knowledge, we can produce outstanding Robustas!\n"
     ]
    }
   ],
   "source": [
    "print(text)"
   ]
  },
  {
   "cell_type": "code",
   "execution_count": 117,
   "metadata": {},
   "outputs": [
    {
     "data": {
      "text/plain": [
       "{'TASTING NOTES': ['cacao', 'chocolate', 'red fruits'],\n",
       " 'ROAST LEVEL': ['medium', 'rainforest'],\n",
       " 'LOCATION': ['karnataka', 'coorg'],\n",
       " 'ELEVATION': ['1000 - m'],\n",
       " 'PROCESSING': ['washed'],\n",
       " 'VARIETAL': ['c'],\n",
       " 'ESTATE': ['sandalkad'],\n",
       " 'COFFEE TYPE': ['robustas', 'robusta'],\n",
       " 'BODY': ['deep body']}"
      ]
     },
     "execution_count": 117,
     "metadata": {},
     "output_type": "execute_result"
    }
   ],
   "source": [
    "return_each_label(text_cleaner(text),nlp1)"
   ]
  },
  {
   "cell_type": "code",
   "execution_count": 118,
   "metadata": {},
   "outputs": [
    {
     "data": {
      "text/plain": [
       "{'AROMA': ['chocolate'],\n",
       " 'BODY': ['deep', 'rich'],\n",
       " 'AFTERTASTE': ['lingering'],\n",
       " 'PROCESSING': ['clean bulk', 'rainforest certified', 'washed'],\n",
       " 'LOCATION': ['karnataka', 'coorg'],\n",
       " 'ELEVATION': ['1000 - m', 'c x r'],\n",
       " 'ROAST LEVEL': ['medium', 'city'],\n",
       " 'NAME': ['sandalkad'],\n",
       " 'TASTING NOTES': ['cacao'],\n",
       " 'ESTATE': ['sandalkad'],\n",
       " 'COFFEE TYPE': ['robustas', 'robusta']}"
      ]
     },
     "execution_count": 118,
     "metadata": {},
     "output_type": "execute_result"
    }
   ],
   "source": [
    "return_each_label(text_cleaner(text),nlp2)"
   ]
  },
  {
   "cell_type": "code",
   "execution_count": null,
   "metadata": {},
   "outputs": [],
   "source": []
  }
 ],
 "metadata": {
  "kernelspec": {
   "display_name": ".dev_env",
   "language": "python",
   "name": "python3"
  },
  "language_info": {
   "codemirror_mode": {
    "name": "ipython",
    "version": 3
   },
   "file_extension": ".py",
   "mimetype": "text/x-python",
   "name": "python",
   "nbconvert_exporter": "python",
   "pygments_lexer": "ipython3",
   "version": "3.12.6"
  }
 },
 "nbformat": 4,
 "nbformat_minor": 2
}
